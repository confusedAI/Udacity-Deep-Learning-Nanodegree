{
 "cells": [
  {
   "cell_type": "markdown",
   "metadata": {},
   "source": [
    "# Neural networks with PyTorch\n",
    "\n",
    "Deep learning networks tend to be massive with dozens or hundreds of layers, that's where the term \"deep\" comes from. You can build one of these deep networks using only weight matrices as we did in the previous notebook, but in general it's very cumbersome and difficult to implement. PyTorch has a nice module `nn` that provides a nice way to efficiently build large neural networks."
   ]
  },
  {
   "cell_type": "code",
   "execution_count": 1,
   "metadata": {},
   "outputs": [],
   "source": [
    "# Import necessary packages\n",
    "\n",
    "%matplotlib inline\n",
    "%config InlineBackend.figure_format = 'retina'\n",
    "\n",
    "import numpy as np\n",
    "import torch\n",
    "\n",
    "import helper\n",
    "\n",
    "import matplotlib.pyplot as plt"
   ]
  },
  {
   "cell_type": "markdown",
   "metadata": {},
   "source": [
    "\n",
    "Now we're going to build a larger network that can solve a (formerly) difficult problem, identifying text in an image. Here we'll use the MNIST dataset which consists of greyscale handwritten digits. Each image is 28x28 pixels, you can see a sample below\n",
    "\n",
    "<img src='assets/mnist.png'>\n",
    "\n",
    "Our goal is to build a neural network that can take one of these images and predict the digit in the image.\n",
    "\n",
    "First up, we need to get our dataset. This is provided through the `torchvision` package. The code below will download the MNIST dataset, then create training and test datasets for us. Don't worry too much about the details here, you'll learn more about this later."
   ]
  },
  {
   "cell_type": "code",
   "execution_count": 2,
   "metadata": {},
   "outputs": [
    {
     "name": "stdout",
     "output_type": "stream",
     "text": [
      "Downloading http://yann.lecun.com/exdb/mnist/train-images-idx3-ubyte.gz\n",
      "Downloading http://yann.lecun.com/exdb/mnist/train-labels-idx1-ubyte.gz\n",
      "Downloading http://yann.lecun.com/exdb/mnist/t10k-images-idx3-ubyte.gz\n",
      "Downloading http://yann.lecun.com/exdb/mnist/t10k-labels-idx1-ubyte.gz\n",
      "Processing...\n",
      "Done!\n"
     ]
    }
   ],
   "source": [
    "### Run this cell\n",
    "\n",
    "from torchvision import datasets, transforms\n",
    "\n",
    "# Define a transform to normalize the data\n",
    "transform = transforms.Compose([transforms.ToTensor(),\n",
    "                              transforms.Normalize((0.5,), (0.5,)),\n",
    "                              ])\n",
    "\n",
    "# Download and load the training data\n",
    "trainset = datasets.MNIST('~/.pytorch/MNIST_data/', download=True, train=True, transform=transform)\n",
    "trainloader = torch.utils.data.DataLoader(trainset, batch_size=64, shuffle=True)"
   ]
  },
  {
   "cell_type": "markdown",
   "metadata": {},
   "source": [
    "We have the training data loaded into `trainloader` and we make that an iterator with `iter(trainloader)`. Later, we'll use this to loop through the dataset for training, like\n",
    "\n",
    "```python\n",
    "for image, label in trainloader:\n",
    "    ## do things with images and labels\n",
    "```\n",
    "\n",
    "You'll notice I created the `trainloader` with a batch size of 64, and `shuffle=True`. The batch size is the number of images we get in one iteration from the data loader and pass through our network, often called a *batch*. And `shuffle=True` tells it to shuffle the dataset every time we start going through the data loader again. But here I'm just grabbing the first batch so we can check out the data. We can see below that `images` is just a tensor with size `(64, 1, 28, 28)`. So, 64 images per batch, 1 color channel, and 28x28 images."
   ]
  },
  {
   "cell_type": "code",
   "execution_count": 3,
   "metadata": {},
   "outputs": [
    {
     "name": "stdout",
     "output_type": "stream",
     "text": [
      "<class 'torch.Tensor'>\n",
      "torch.Size([64, 1, 28, 28])\n",
      "torch.Size([64])\n"
     ]
    }
   ],
   "source": [
    "dataiter = iter(trainloader)\n",
    "images, labels = dataiter.next()\n",
    "print(type(images))\n",
    "print(images.shape)\n",
    "print(labels.shape)"
   ]
  },
  {
   "cell_type": "markdown",
   "metadata": {},
   "source": [
    "This is what one of the images looks like. "
   ]
  },
  {
   "cell_type": "code",
   "execution_count": 4,
   "metadata": {},
   "outputs": [
    {
     "data": {
      "image/png": "[encoded data removed]",
      "text/plain": [
       "<matplotlib.figure.Figure at 0x7f1a243b2ba8>"
      ]
     },
     "metadata": {
      "image/png": {
       "height": 250,
       "width": 253
      },
      "needs_background": "light"
     },
     "output_type": "display_data"
    }
   ],
   "source": [
    "plt.imshow(images[1].numpy().squeeze(), cmap='Greys_r');"
   ]
  },
  {
   "cell_type": "markdown",
   "metadata": {},
   "source": [
    "First, let's try to build a simple network for this dataset using weight matrices and matrix multiplications. Then, we'll see how to do it using PyTorch's `nn` module which provides a much more convenient and powerful method for defining network architectures.\n",
    "\n",
    "The networks you've seen so far are called *fully-connected* or *dense* networks. Each unit in one layer is connected to each unit in the next layer. In fully-connected networks, the input to each layer must be a one-dimensional vector (which can be stacked into a 2D tensor as a batch of multiple examples). However, our images are 28x28 2D tensors, so we need to convert them into 1D vectors. Thinking about sizes, we need to convert the batch of images with shape `(64, 1, 28, 28)` to a have a shape of `(64, 784)`, 784 is 28 times 28. This is typically called *flattening*, we flattened the 2D images into 1D vectors.\n",
    "\n",
    "Previously you built a network with one output unit. Here we need 10 output units, one for each digit. We want our network to predict the digit shown in an image, so what we'll do is calculate probabilities that the image is of any one digit or class. This ends up being a discrete probability distribution over the classes (digits) that tells us the most likely class for the image. That means we need 10 output units for the 10 classes (digits). We'll see how to convert the network output into a probability distribution next.\n",
    "\n",
    "> **Exercise:** Flatten the batch of images `images`. Then build a multi-layer network with 784 input units, 256 hidden units, and 10 output units using random tensors for the weights and biases. For now, use a sigmoid activation for the hidden layer. Leave the output layer without an activation, we'll add one that gives us a probability distribution next."
   ]
  },
  {
   "cell_type": "code",
   "execution_count": 5,
   "metadata": {},
   "outputs": [
    {
     "name": "stdout",
     "output_type": "stream",
     "text": [
      "tensor([[ 8.0850e+00, -1.5595e+01, -1.0723e+01, -1.5142e+01, -4.6770e+00,\n",
      "         -7.1202e+00, -2.7982e+00, -1.0870e+01,  1.3333e+01,  5.7127e+00],\n",
      "        [ 9.8853e+00, -7.4505e+00, -1.2643e+01, -9.6778e+00, -3.5154e+00,\n",
      "         -8.2469e+00, -5.0159e+00,  1.5598e+00,  3.4984e+00,  7.5273e+00],\n",
      "        [ 1.0790e+01, -8.9412e-01, -1.7511e+01, -1.4982e+01, -5.0113e+00,\n",
      "         -5.2321e+00,  1.2098e+00, -3.8431e+00,  2.2882e+00,  5.3345e+00],\n",
      "        [ 7.1004e+00,  1.3212e+00, -2.3092e+01, -1.4788e+01, -9.9774e+00,\n",
      "          4.7963e-01,  5.0699e+00,  1.4742e+00,  1.1779e+01,  1.0579e+01],\n",
      "        [ 3.2392e-04,  3.3091e+00, -1.5121e+01, -6.1153e+00, -1.0133e+01,\n",
      "         -8.8404e+00,  1.0466e+01, -1.8451e+00,  1.3772e+00,  1.0917e+01],\n",
      "        [ 8.7952e+00, -1.1040e+01, -1.1334e+01, -1.8847e+01,  1.4174e+00,\n",
      "         -4.0283e+00, -4.3410e+00, -4.8300e+00, -4.0379e+00,  6.5525e+00],\n",
      "        [ 1.7002e+01, -1.1434e+01, -1.4397e+01, -5.9419e+00,  2.6378e+00,\n",
      "         -5.4819e+00,  6.3716e+00,  4.7434e+00,  4.2977e+00,  1.5802e+01],\n",
      "        [ 1.2308e+01, -3.9477e+00, -1.8290e+01, -2.0348e+01, -3.9279e+00,\n",
      "         -2.6552e+00, -6.6409e+00, -6.8723e+00,  4.1152e+00,  1.3840e+01],\n",
      "        [-4.5404e-01, -9.0411e+00, -1.1684e+01, -9.6597e+00,  4.7997e+00,\n",
      "         -4.2920e+00,  2.0871e+00,  7.7669e+00,  1.1243e+01,  2.5843e+00],\n",
      "        [ 1.9447e+01, -7.6934e-01, -1.4805e+01, -1.3568e+01, -2.9885e+00,\n",
      "          1.0828e+00,  5.2616e+00, -1.2418e+00,  1.5038e+01,  4.1660e+00],\n",
      "        [-3.1910e+00, -1.2280e+01, -8.5404e+00, -1.3890e+01,  3.0971e-01,\n",
      "         -4.7924e+00, -1.1499e+00, -8.8920e+00,  6.0705e+00,  7.6430e+00],\n",
      "        [ 8.2184e-01,  7.5142e+00, -2.0063e+01, -9.4223e+00,  7.5582e+00,\n",
      "          6.4620e-01, -5.2750e+00, -4.5978e+00,  2.0992e+01,  1.5586e+01],\n",
      "        [ 1.5281e+00, -1.5224e+01, -2.4256e+01, -1.5461e+01,  2.4403e-01,\n",
      "         -6.9506e+00,  3.1946e+00, -4.8460e+00, -7.2043e-02,  6.0674e+00],\n",
      "        [ 9.6756e+00, -6.5513e-01, -2.1780e+01, -1.5431e+01, -5.5056e+00,\n",
      "         -1.9514e+00,  1.2026e+01, -7.1983e+00,  6.4735e+00,  5.5566e+00],\n",
      "        [ 1.6204e+01,  2.9965e+00, -2.8711e+01, -5.3911e+00, -5.5128e+00,\n",
      "         -8.2878e+00,  9.4844e+00,  4.8528e+00,  7.4233e+00,  1.3990e+01],\n",
      "        [-6.1449e-02, -2.7709e+00, -5.7242e+00, -1.0481e+01,  2.7655e+00,\n",
      "         -1.7742e+00, -8.9040e-01, -1.3718e+01,  1.4200e+01,  7.7742e+00],\n",
      "        [ 5.7249e+00, -5.4671e+00, -8.0493e+00, -1.1430e+01, -4.6155e+00,\n",
      "         -3.5043e+00, -4.9810e+00, -1.2912e+01,  1.1835e+01,  1.6397e+01],\n",
      "        [ 5.7945e+00, -1.7987e+00, -1.1785e+01, -1.2749e+01, -8.4262e+00,\n",
      "         -3.8062e+00, -8.8703e-01, -3.3237e+00,  5.8170e+00,  1.2514e+01],\n",
      "        [-3.5061e+00, -7.0435e+00, -1.6765e+00, -1.5757e+01, -4.9092e+00,\n",
      "         -1.1009e+01, -2.2536e+00, -1.4115e+01,  2.7667e+00,  2.2964e+00],\n",
      "        [ 1.0436e+01, -7.9006e+00, -1.0640e+01, -1.4683e+01, -3.9898e+00,\n",
      "         -6.3917e+00,  9.2147e-02, -5.4311e+00,  7.8408e+00,  4.1860e+00],\n",
      "        [ 6.7514e+00, -1.2154e+01, -1.1975e+01, -2.1356e+01, -1.1432e+00,\n",
      "         -8.3295e-01, -5.1026e+00, -1.1309e+01,  1.9499e+00, -4.6905e+00],\n",
      "        [ 1.3785e+01, -2.8960e+00, -2.3062e+01, -1.6829e+01, -1.1297e+01,\n",
      "          7.1706e+00, -1.3479e+00, -7.2589e+00,  1.3926e+01,  7.9479e+00],\n",
      "        [ 7.6726e+00,  2.5947e+00, -2.0726e+01, -1.9424e+01,  4.3496e+00,\n",
      "          2.7400e+00, -5.7682e+00, -1.0986e+01,  1.2076e+01,  9.6979e+00],\n",
      "        [ 1.7361e+01, -1.5905e+01, -1.7081e+01, -1.9140e+01, -4.4475e+00,\n",
      "         -5.2168e+00, -4.2075e+00, -8.5119e-01, -7.2298e-01, -3.9205e+00],\n",
      "        [ 6.2922e+00, -5.4169e+00, -8.4064e+00, -2.5323e+01, -2.8764e-01,\n",
      "         -1.8315e+00, -5.3574e+00, -7.2413e+00,  1.7750e+00,  3.6564e+00],\n",
      "        [ 3.2347e+00, -1.1599e+01, -8.4731e+00, -2.9341e+01, -7.6452e+00,\n",
      "         -2.4877e+00, -1.4465e+00, -1.5896e+01,  1.1871e+01,  1.0891e+01],\n",
      "        [-5.7796e+00, -9.5767e+00, -9.0273e+00, -1.5685e+01,  6.6089e+00,\n",
      "         -4.8717e+00,  4.4036e+00, -1.3037e+01,  7.9247e+00,  5.1200e+00],\n",
      "        [ 1.3962e+01, -1.7247e+00, -1.3582e+01, -1.9390e+01, -9.9206e+00,\n",
      "         -1.0194e+01, -3.5423e+00, -1.0139e+00,  2.1344e+00,  6.2526e+00],\n",
      "        [ 1.9131e+01, -3.8448e+00, -2.3196e+01, -1.2201e+01, -7.7147e+00,\n",
      "          1.5003e+00,  2.5394e+00, -1.4132e+01, -2.1641e+00,  4.2431e+00],\n",
      "        [ 1.6113e+01,  6.0330e+00, -1.8357e+01, -2.2864e+00, -3.6262e+00,\n",
      "         -7.8580e+00,  4.5782e+00,  4.0689e+00,  8.2512e+00,  1.1646e+01],\n",
      "        [-5.0494e+00,  1.0979e+00, -1.7611e+01, -1.8535e+01,  5.0244e+00,\n",
      "          4.2918e+00,  6.6512e+00,  2.4944e-01,  1.7407e-01,  1.0085e+01],\n",
      "        [ 9.6142e+00, -6.6938e+00, -1.0576e+01, -2.6969e+01, -3.0803e+00,\n",
      "         -5.9011e+00, -2.8820e+00, -3.5216e+00, -1.0592e+00,  1.2436e+00],\n",
      "        [ 1.9552e+01, -3.2336e+00, -2.1780e+01, -2.3798e+01, -1.3009e+00,\n",
      "         -7.9699e-01, -1.2426e+00, -5.1788e+00,  9.7697e+00,  1.1498e+01],\n",
      "        [ 7.8793e+00,  6.2082e+00, -1.2936e+01, -2.4228e+00, -6.3264e+00,\n",
      "          2.7558e+00,  1.1554e+01, -1.2860e+01,  1.0338e+01,  1.0232e+01],\n",
      "        [ 9.2343e+00, -9.0251e+00, -1.8435e+01, -1.0841e+00, -2.9145e+00,\n",
      "         -6.5262e+00, -8.3062e+00, -8.6912e+00,  7.1515e+00,  1.3216e+01],\n",
      "        [ 5.3957e+00, -4.6586e+00, -1.5841e+01, -1.8027e+01, -2.4480e+00,\n",
      "         -6.8453e+00, -2.1086e-01, -6.1921e+00,  1.0584e+01,  1.4810e+01],\n",
      "        [ 6.1881e+00,  8.8933e+00, -1.7335e+01, -1.7486e+01,  2.5471e+00,\n",
      "         -4.1111e+00, -4.0445e-01, -1.3444e+01,  1.5680e+01,  8.3975e+00],\n",
      "        [ 8.6670e+00, -3.0763e+00, -1.2546e+01, -9.6775e+00, -5.0241e+00,\n",
      "         -1.2653e+01,  3.6285e+00, -6.6031e-01, -8.9513e+00,  5.9868e+00],\n",
      "        [ 1.4688e+01, -2.9985e+00, -2.6162e+01, -3.2702e+00, -1.0408e+00,\n",
      "         -1.1529e+01,  9.8398e+00, -5.8877e+00,  1.0793e+01,  9.0484e+00],\n",
      "        [ 1.3804e+01, -5.5012e+00, -4.5904e+00, -1.2643e+01, -7.7283e+00,\n",
      "         -5.6568e+00, -5.1693e+00, -1.6327e+01,  5.0571e+00,  9.6244e+00],\n",
      "        [ 5.1020e+00, -5.8199e+00, -1.8734e+01, -1.3727e+01,  3.8125e+00,\n",
      "         -7.2171e+00,  1.5906e-01, -9.4673e+00,  4.0178e+00,  1.1734e+01],\n",
      "        [ 5.5464e+00, -2.4995e+00, -2.4978e+01, -2.1400e+01, -6.3431e+00,\n",
      "         -1.2401e+01,  4.6228e+00, -1.9628e+00,  1.5537e+01,  2.2770e+00],\n",
      "        [ 1.0628e+01, -1.3183e+00, -1.8512e+01, -1.6746e+01, -7.8725e+00,\n",
      "         -7.5737e+00, -6.2385e+00, -1.3450e+01,  1.5470e+01,  1.6660e+01],\n",
      "        [ 1.0566e+01,  2.0365e+00, -1.3726e+01, -1.6004e+01, -5.0576e+00,\n",
      "          3.1892e+00, -8.0798e+00, -2.5346e+00,  1.0442e+01,  8.9644e+00],\n",
      "        [ 2.1458e+00,  1.4198e+00, -1.8723e+01, -6.0226e+00,  8.8849e+00,\n",
      "         -4.4733e+00,  6.6375e+00, -1.0796e+01, -1.9975e+00,  1.2239e+01],\n",
      "        [ 1.4495e+01, -9.5184e+00, -1.1585e+01, -1.2670e+01, -6.1118e+00,\n",
      "         -3.5828e-01, -4.0570e+00, -1.2969e+01,  9.4682e+00, -3.7984e+00],\n",
      "        [ 1.4841e+01, -2.4729e+00, -2.0070e+01, -1.0244e+01, -7.8013e+00,\n",
      "         -7.3288e+00, -1.0728e+01, -6.3741e+00,  5.1396e+00,  2.2539e+01],\n",
      "        [ 6.9351e+00,  5.6731e+00, -1.3557e+01, -7.2366e+00, -5.5690e+00,\n",
      "         -4.4912e+00, -2.2682e+00, -7.4696e+00,  2.1591e+00,  4.3724e+00],\n",
      "        [ 3.9041e+00, -8.3722e+00, -1.3220e+01, -2.1593e+01, -4.8289e-02,\n",
      "         -8.1841e+00, -4.5037e+00, -6.6590e+00,  1.1646e+01,  1.1417e+01],\n",
      "        [ 1.1095e+01,  9.2010e+00, -1.7009e+01, -9.6049e+00,  1.0141e+00,\n",
      "         -1.6354e+00, -5.1705e+00, -1.5332e+01,  1.7985e+01,  7.6123e+00],\n",
      "        [ 4.3376e+00, -1.2252e+01, -5.4234e+00, -2.3277e+01, -3.1329e+00,\n",
      "         -1.0650e+01,  2.5215e+00, -8.4403e+00,  8.2014e+00, -1.4990e+00],\n",
      "        [-6.3382e+00,  1.7644e+00, -2.4166e+01, -1.1902e+01, -2.7125e+00,\n",
      "          2.5222e+00, -2.5496e+00, -5.8586e+00,  1.0641e+01,  1.3613e+01],\n",
      "        [ 1.2068e+01,  2.2043e+00, -3.0702e+01, -1.0756e+01, -3.7062e+00,\n",
      "         -4.7162e+00,  8.5308e+00, -8.7723e-01,  3.0010e+00,  9.5448e+00],\n",
      "        [ 1.1041e+01,  1.1033e+00, -1.5523e+01, -1.8816e+01, -2.4155e+00,\n",
      "         -2.7870e+00,  1.6740e+00, -1.1527e+01,  9.8245e+00,  9.1981e+00],\n",
      "        [ 1.1521e+01,  8.4477e+00, -2.9642e+01, -1.8381e+01,  5.6004e+00,\n",
      "         -2.8985e+00, -6.1032e-01, -1.5377e+00,  9.1001e+00,  1.2569e+01],\n",
      "        [ 1.5182e+01, -2.8170e+00, -6.2264e+00, -1.7061e+01,  3.2219e-02,\n",
      "         -8.1063e+00, -4.8340e+00, -8.2086e+00,  5.6802e+00,  4.0007e+00],\n",
      "        [ 1.4420e+01, -1.6048e+01, -1.2608e+01, -1.8508e+01, -7.4586e+00,\n",
      "         -1.4233e-01, -1.5044e+01, -1.7396e+01,  8.4824e+00,  7.2398e+00],\n",
      "        [ 1.1289e+01, -8.5408e-01, -1.8138e+01, -2.4074e+01,  2.2519e-01,\n",
      "         -7.9184e+00,  3.2807e+00, -8.4719e+00,  1.0725e+01,  8.6310e+00],\n",
      "        [ 1.3304e+01,  1.2523e+01, -2.8739e+01, -2.3137e+01,  1.3896e+00,\n",
      "          3.7373e+00,  1.7198e+00, -1.1144e+01,  3.3446e+00,  6.2581e+00],\n",
      "        [ 2.3121e+00, -8.4724e+00, -9.0829e+00, -1.2039e+01, -5.6434e+00,\n",
      "         -9.6885e+00, -3.0885e+00, -1.4097e+01,  5.8455e+00,  8.1007e+00],\n",
      "        [ 1.4895e+01, -1.2290e+01, -1.7899e+01, -1.4198e+01,  2.7528e+00,\n",
      "         -5.6532e+00, -4.2624e-01,  2.6188e+00, -1.4589e+00,  1.6121e+01],\n",
      "        [ 1.1031e+01, -1.4507e+01, -7.8294e+00, -1.5841e+01, -4.5082e+00,\n",
      "         -2.2242e+00, -1.2850e+01, -1.1301e+01,  1.4786e+01,  1.1517e+01],\n",
      "        [ 9.0525e+00,  1.9095e+00, -2.4869e+01, -1.7698e+01, -1.4248e+01,\n",
      "          8.1700e-01, -2.8478e+00, -5.7962e+00,  1.3471e+01,  1.2580e+01],\n",
      "        [-1.6217e-01,  6.1669e+00, -1.6410e+01, -1.3111e+01, -1.0149e+00,\n",
      "         -1.6466e+00,  1.4767e+00, -8.1375e+00,  1.4638e+01,  1.1482e+01]])\n"
     ]
    }
   ],
   "source": [
    "## Your solution\n",
    "def activation(x):\n",
    "    return 1/(1+torch.exp(-x))\n",
    "\n",
    "features = images.view(images.shape[0],784)\n",
    "W1 = torch.randn((784,256))\n",
    "B1 = torch.randn((1,256))\n",
    "H = activation(torch.mm(features,W1) + B1)\n",
    "W2 = torch.randn((256,10))\n",
    "B2 = torch.randn((1,10))\n",
    "\n",
    "out = torch.mm(H,W2) + B2 # output of your network, should have shape (64,10)\n",
    "print(out)"
   ]
  },
  {
   "cell_type": "markdown",
   "metadata": {},
   "source": [
    "Now we have 10 outputs for our network. We want to pass in an image to our network and get out a probability distribution over the classes that tells us the likely class(es) the image belongs to. Something that looks like this:\n",
    "<img src='assets/image_distribution.png' width=500px>\n",
    "\n",
    "Here we see that the probability for each class is roughly the same. This is representing an untrained network, it hasn't seen any data yet so it just returns a uniform distribution with equal probabilities for each class.\n",
    "\n",
    "To calculate this probability distribution, we often use the [**softmax** function](https://en.wikipedia.org/wiki/Softmax_function). Mathematically this looks like\n",
    "\n",
    "$$\n",
    "\\Large \\sigma(x_i) = \\cfrac{e^{x_i}}{\\sum_k^K{e^{x_k}}}\n",
    "$$\n",
    "\n",
    "What this does is squish each input $x_i$ between 0 and 1 and normalizes the values to give you a proper probability distribution where the probabilites sum up to one.\n",
    "\n",
    "> **Exercise:** Implement a function `softmax` that performs the softmax calculation and returns probability distributions for each example in the batch. Note that you'll need to pay attention to the shapes when doing this. If you have a tensor `a` with shape `(64, 10)` and a tensor `b` with shape `(64,)`, doing `a/b` will give you an error because PyTorch will try to do the division across the columns (called broadcasting) but you'll get a size mismatch. The way to think about this is for each of the 64 examples, you only want to divide by one value, the sum in the denominator. So you need `b` to have a shape of `(64, 1)`. This way PyTorch will divide the 10 values in each row of `a` by the one value in each row of `b`. Pay attention to how you take the sum as well. You'll need to define the `dim` keyword in `torch.sum`. Setting `dim=0` takes the sum across the rows while `dim=1` takes the sum across the columns."
   ]
  },
  {
   "cell_type": "code",
   "execution_count": 6,
   "metadata": {},
   "outputs": [
    {
     "name": "stdout",
     "output_type": "stream",
     "text": [
      "torch.Size([64, 10])\n",
      "tensor([ 1.0000,  1.0000,  1.0000,  1.0000,  1.0000,  1.0000,  1.0000,\n",
      "         1.0000,  1.0000,  1.0000,  1.0000,  1.0000,  1.0000,  1.0000,\n",
      "         1.0000,  1.0000,  1.0000,  1.0000,  1.0000,  1.0000,  1.0000,\n",
      "         1.0000,  1.0000,  1.0000,  1.0000,  1.0000,  1.0000,  1.0000,\n",
      "         1.0000,  1.0000,  1.0000,  1.0000,  1.0000,  1.0000,  1.0000,\n",
      "         1.0000,  1.0000,  1.0000,  1.0000,  1.0000,  1.0000,  1.0000,\n",
      "         1.0000,  1.0000,  1.0000,  1.0000,  1.0000,  1.0000,  1.0000,\n",
      "         1.0000,  1.0000,  1.0000,  1.0000,  1.0000,  1.0000,  1.0000,\n",
      "         1.0000,  1.0000,  1.0000,  1.0000,  1.0000,  1.0000,  1.0000,\n",
      "         1.0000])\n"
     ]
    }
   ],
   "source": [
    "def softmax(x):\n",
    "    ## TODO: Implement the softmax function here\n",
    "    ex = torch.exp(x)\n",
    "    ex_sum = torch.sum(ex,dim=1)\n",
    "    return ex / ex_sum.view(-1,1)\n",
    "\n",
    "# Here, out should be the output of the network in the previous excercise with shape (64,10)\n",
    "probabilities = softmax(out)\n",
    "\n",
    "# Does it have the right shape? Should be (64, 10)\n",
    "print(probabilities.shape)\n",
    "# Does it sum to 1?\n",
    "print(probabilities.sum(dim=1))"
   ]
  },
  {
   "cell_type": "markdown",
   "metadata": {},
   "source": [
    "## Building networks with PyTorch\n",
    "\n",
    "PyTorch provides a module `nn` that makes building networks much simpler. Here I'll show you how to build the same one as above with 784 inputs, 256 hidden units, 10 output units and a softmax output."
   ]
  },
  {
   "cell_type": "code",
   "execution_count": 7,
   "metadata": {},
   "outputs": [],
   "source": [
    "from torch import nn"
   ]
  },
  {
   "cell_type": "code",
   "execution_count": 8,
   "metadata": {},
   "outputs": [],
   "source": [
    "class Network(nn.Module):\n",
    "    def __init__(self):\n",
    "        super().__init__()\n",
    "        \n",
    "        # Inputs to hidden layer linear transformation\n",
    "        self.hidden = nn.Linear(784, 256)\n",
    "        # Output layer, 10 units - one for each digit\n",
    "        self.output = nn.Linear(256, 10)\n",
    "        \n",
    "        # Define sigmoid activation and softmax output \n",
    "        self.sigmoid = nn.Sigmoid()\n",
    "        self.softmax = nn.Softmax(dim=1)\n",
    "        \n",
    "    def forward(self, x):\n",
    "        # Pass the input tensor through each of our operations\n",
    "        x = self.hidden(x)\n",
    "        x = self.sigmoid(x)\n",
    "        x = self.output(x)\n",
    "        x = self.softmax(x)\n",
    "        \n",
    "        return x"
   ]
  },
  {
   "cell_type": "markdown",
   "metadata": {},
   "source": [
    "Let's go through this bit by bit.\n",
    "\n",
    "```python\n",
    "class Network(nn.Module):\n",
    "```\n",
    "\n",
    "Here we're inheriting from `nn.Module`. Combined with `super().__init__()` this creates a class that tracks the architecture and provides a lot of useful methods and attributes. It is mandatory to inherit from `nn.Module` when you're creating a class for your network. The name of the class itself can be anything.\n",
    "\n",
    "```python\n",
    "self.hidden = nn.Linear(784, 256)\n",
    "```\n",
    "\n",
    "This line creates a module for a linear transformation, $x\\mathbf{W} + b$, with 784 inputs and 256 outputs and assigns it to `self.hidden`. The module automatically creates the weight and bias tensors which we'll use in the `forward` method. You can access the weight and bias tensors once the network (`net`) is created with `net.hidden.weight` and `net.hidden.bias`.\n",
    "\n",
    "```python\n",
    "self.output = nn.Linear(256, 10)\n",
    "```\n",
    "\n",
    "Similarly, this creates another linear transformation with 256 inputs and 10 outputs.\n",
    "\n",
    "```python\n",
    "self.sigmoid = nn.Sigmoid()\n",
    "self.softmax = nn.Softmax(dim=1)\n",
    "```\n",
    "\n",
    "Here I defined operations for the sigmoid activation and softmax output. Setting `dim=1` in `nn.Softmax(dim=1)` calculates softmax across the columns.\n",
    "\n",
    "```python\n",
    "def forward(self, x):\n",
    "```\n",
    "\n",
    "PyTorch networks created with `nn.Module` must have a `forward` method defined. It takes in a tensor `x` and passes it through the operations you defined in the `__init__` method.\n",
    "\n",
    "```python\n",
    "x = self.hidden(x)\n",
    "x = self.sigmoid(x)\n",
    "x = self.output(x)\n",
    "x = self.softmax(x)\n",
    "```\n",
    "\n",
    "Here the input tensor `x` is passed through each operation a reassigned to `x`. We can see that the input tensor goes through the hidden layer, then a sigmoid function, then the output layer, and finally the softmax function. It doesn't matter what you name the variables here, as long as the inputs and outputs of the operations match the network architecture you want to build. The order in which you define things in the `__init__` method doesn't matter, but you'll need to sequence the operations correctly in the `forward` method.\n",
    "\n",
    "Now we can create a `Network` object."
   ]
  },
  {
   "cell_type": "code",
   "execution_count": 9,
   "metadata": {},
   "outputs": [
    {
     "data": {
      "text/plain": [
       "Network(\n",
       "  (hidden): Linear(in_features=784, out_features=256, bias=True)\n",
       "  (output): Linear(in_features=256, out_features=10, bias=True)\n",
       "  (sigmoid): Sigmoid()\n",
       "  (softmax): Softmax()\n",
       ")"
      ]
     },
     "execution_count": 9,
     "metadata": {},
     "output_type": "execute_result"
    }
   ],
   "source": [
    "# Create the network and look at it's text representation\n",
    "model = Network()\n",
    "model"
   ]
  },
  {
   "cell_type": "markdown",
   "metadata": {},
   "source": [
    "You can define the network somewhat more concisely and clearly using the `torch.nn.functional` module. This is the most common way you'll see networks defined as many operations are simple element-wise functions. We normally import this module as `F`, `import torch.nn.functional as F`."
   ]
  },
  {
   "cell_type": "code",
   "execution_count": 10,
   "metadata": {},
   "outputs": [],
   "source": [
    "import torch.nn.functional as F\n",
    "\n",
    "class Network(nn.Module):\n",
    "    def __init__(self):\n",
    "        super().__init__()\n",
    "        # Inputs to hidden layer linear transformation\n",
    "        self.hidden = nn.Linear(784, 256)\n",
    "        # Output layer, 10 units - one for each digit\n",
    "        self.output = nn.Linear(256, 10)\n",
    "        \n",
    "    def forward(self, x):\n",
    "        # Hidden layer with sigmoid activation\n",
    "        x = F.sigmoid(self.hidden(x))\n",
    "        # Output layer with softmax activation\n",
    "        x = F.softmax(self.output(x), dim=1)\n",
    "        \n",
    "        return x"
   ]
  },
  {
   "cell_type": "markdown",
   "metadata": {},
   "source": [
    "### Activation functions\n",
    "\n",
    "So far we've only been looking at the softmax activation, but in general any function can be used as an activation function. The only requirement is that for a network to approximate a non-linear function, the activation functions must be non-linear. Here are a few more examples of common activation functions: Tanh (hyperbolic tangent), and ReLU (rectified linear unit).\n",
    "\n",
    "<img src=\"assets/activation.png\" width=700px>\n",
    "\n",
    "In practice, the ReLU function is used almost exclusively as the activation function for hidden layers."
   ]
  },
  {
   "cell_type": "markdown",
   "metadata": {},
   "source": [
    "### Your Turn to Build a Network\n",
    "\n",
    "<img src=\"assets/mlp_mnist.png\" width=600px>\n",
    "\n",
    "> **Exercise:** Create a network with 784 input units, a hidden layer with 128 units and a ReLU activation, then a hidden layer with 64 units and a ReLU activation, and finally an output layer with a softmax activation as shown above. You can use a ReLU activation with the `nn.ReLU` module or `F.relu` function."
   ]
  },
  {
   "cell_type": "code",
   "execution_count": 11,
   "metadata": {
    "scrolled": true
   },
   "outputs": [],
   "source": [
    "## Your solution here\n",
    "from torch import nn\n",
    "\n",
    "class Network1(nn.Module):\n",
    "    def __init__(self):\n",
    "        super().__init__()\n",
    "        self.h1 = nn.Linear(784,128)\n",
    "        self.h2 = nn.Linear(128,64)\n",
    "        self.out = nn.Linear(64,10)\n",
    "        self.relu = nn.ReLU()\n",
    "        self.softmax = nn.Softmax(dim=1)\n",
    "    \n",
    "    def forward(self, x):\n",
    "        x = self.relu(self.h1(x))\n",
    "        x = self.relu(self.h2(x))\n",
    "        x = self.softmax(self.out(x))\n",
    "        \n",
    "        return x\n",
    "\n",
    "model1 = Network1()"
   ]
  },
  {
   "cell_type": "markdown",
   "metadata": {},
   "source": [
    "### Initializing weights and biases\n",
    "\n",
    "The weights and such are automatically initialized for you, but it's possible to customize how they are initialized. The weights and biases are tensors attached to the layer you defined, you can get them with `model.fc1.weight` for instance."
   ]
  },
  {
   "cell_type": "code",
   "execution_count": 16,
   "metadata": {},
   "outputs": [
    {
     "name": "stdout",
     "output_type": "stream",
     "text": [
      "torch.Size([128, 784])\n",
      "torch.Size([128])\n",
      "Parameter containing:\n",
      "tensor([[ 1.2471e-02, -1.5003e-04,  1.0218e-02,  ..., -2.7708e-02,\n",
      "          2.9439e-02, -9.4970e-03],\n",
      "        [-2.2457e-02, -6.9834e-03,  3.2408e-04,  ..., -2.2230e-02,\n",
      "         -1.8307e-02,  2.9523e-02],\n",
      "        [-2.4019e-03,  4.5488e-03, -2.4980e-02,  ..., -3.0649e-03,\n",
      "          3.8232e-03,  1.9474e-02],\n",
      "        ...,\n",
      "        [ 2.3653e-03, -3.2566e-02, -3.3558e-02,  ..., -1.8025e-02,\n",
      "         -1.6423e-02, -2.6562e-02],\n",
      "        [-1.3953e-02, -1.2204e-02, -3.1696e-02,  ..., -2.3188e-02,\n",
      "          1.0206e-02,  3.0300e-02],\n",
      "        [ 3.2909e-02,  1.2433e-02,  1.3227e-02,  ...,  3.0236e-02,\n",
      "          3.2932e-02,  2.4917e-02]])\n",
      "Parameter containing:\n",
      "tensor(1.00000e-02 *\n",
      "       [-1.0121, -2.7911,  1.6854,  0.7690,  1.1044,  0.8547, -2.5414,\n",
      "         1.3030,  2.9594,  3.3028,  0.2169,  0.2968,  3.5432, -0.4675,\n",
      "         2.2988,  1.5537,  3.1000, -0.6127,  2.4450,  0.5075, -2.5638,\n",
      "         2.2878, -2.6867, -2.0830,  3.1109, -2.1573,  2.5535,  0.3995,\n",
      "        -2.0379, -1.3228,  0.7949,  2.8889,  0.3138,  1.8854, -0.0557,\n",
      "         2.7047,  0.3742, -1.2577, -0.6505, -2.8964,  2.1581,  2.6867,\n",
      "         1.1888,  1.8868, -0.1395,  2.7848, -0.5003,  2.9752, -3.2181,\n",
      "         0.9036, -3.3478,  2.1593, -0.4954,  2.4232,  2.8666,  1.9439,\n",
      "         2.9279,  2.7306,  2.4214,  0.2765,  2.5913,  0.9763,  3.1992,\n",
      "         1.9846,  2.2974,  0.6918,  1.0053,  2.4401,  1.0777, -1.2842,\n",
      "         3.0854, -1.0553,  2.8436,  1.5631,  1.4991,  1.8546, -0.2330,\n",
      "         1.7548,  3.4061, -2.5926,  2.8641, -1.9439, -2.4564,  0.5445,\n",
      "         2.2402,  0.8816, -1.5218, -0.6416,  0.2431, -0.0321,  1.9258,\n",
      "         0.5315,  0.5163, -3.3303, -2.1885,  0.8372, -0.2379, -1.5738,\n",
      "         0.3095,  2.9434, -3.4513, -2.4530, -2.7278,  2.6170, -1.6357,\n",
      "         2.1975,  0.7662,  1.0786, -0.7804, -1.0349,  3.0021, -0.1184,\n",
      "        -1.8215, -2.2954, -2.6571,  1.6900, -1.8168,  1.3505,  3.0204,\n",
      "        -1.7474, -0.8235, -2.7374,  1.8312, -1.9649, -1.3327,  0.4225,\n",
      "         2.5580,  0.1539])\n"
     ]
    }
   ],
   "source": [
    "print(model1.h1.weight.shape)\n",
    "print(model1.h1.bias.shape)\n",
    "print(model1.h1.weight)\n",
    "print(model1.h1.bias)"
   ]
  },
  {
   "cell_type": "markdown",
   "metadata": {},
   "source": [
    "For custom initialization, we want to modify these tensors in place. These are actually autograd *Variables*, so we need to get back the actual tensors with `model.fc1.weight.data`. Once we have the tensors, we can fill them with zeros (for biases) or random normal values."
   ]
  },
  {
   "cell_type": "code",
   "execution_count": 18,
   "metadata": {},
   "outputs": [
    {
     "data": {
      "text/plain": [
       "tensor([ 0.,  0.,  0.,  0.,  0.,  0.,  0.,  0.,  0.,  0.,  0.,  0.,\n",
       "         0.,  0.,  0.,  0.,  0.,  0.,  0.,  0.,  0.,  0.,  0.,  0.,\n",
       "         0.,  0.,  0.,  0.,  0.,  0.,  0.,  0.,  0.,  0.,  0.,  0.,\n",
       "         0.,  0.,  0.,  0.,  0.,  0.,  0.,  0.,  0.,  0.,  0.,  0.,\n",
       "         0.,  0.,  0.,  0.,  0.,  0.,  0.,  0.,  0.,  0.,  0.,  0.,\n",
       "         0.,  0.,  0.,  0.,  0.,  0.,  0.,  0.,  0.,  0.,  0.,  0.,\n",
       "         0.,  0.,  0.,  0.,  0.,  0.,  0.,  0.,  0.,  0.,  0.,  0.,\n",
       "         0.,  0.,  0.,  0.,  0.,  0.,  0.,  0.,  0.,  0.,  0.,  0.,\n",
       "         0.,  0.,  0.,  0.,  0.,  0.,  0.,  0.,  0.,  0.,  0.,  0.,\n",
       "         0.,  0.,  0.,  0.,  0.,  0.,  0.,  0.,  0.,  0.,  0.,  0.,\n",
       "         0.,  0.,  0.,  0.,  0.,  0.,  0.,  0.])"
      ]
     },
     "execution_count": 18,
     "metadata": {},
     "output_type": "execute_result"
    }
   ],
   "source": [
    "# Set biases to all zeros\n",
    "model1.h1.bias.data.fill_(0)"
   ]
  },
  {
   "cell_type": "code",
   "execution_count": 19,
   "metadata": {},
   "outputs": [
    {
     "data": {
      "text/plain": [
       "tensor([[-7.7985e-03,  2.8686e-03,  4.7834e-03,  ..., -1.5144e-02,\n",
       "          2.3639e-03, -3.6557e-03],\n",
       "        [-1.6016e-02, -1.2385e-02, -3.9109e-03,  ...,  2.9336e-02,\n",
       "          8.5638e-03,  5.6312e-03],\n",
       "        [-2.5518e-02, -1.3587e-02,  1.1833e-02,  ..., -9.3378e-03,\n",
       "         -1.1856e-02,  8.1794e-03],\n",
       "        ...,\n",
       "        [-7.6015e-03,  1.3168e-02, -2.7411e-03,  ..., -2.2128e-02,\n",
       "         -1.1636e-03, -1.6947e-04],\n",
       "        [ 5.3526e-03, -6.1174e-03, -1.0542e-02,  ..., -3.7765e-03,\n",
       "          1.1686e-03,  7.1552e-03],\n",
       "        [-9.1785e-03,  1.5114e-02, -8.0500e-03,  ..., -7.1603e-03,\n",
       "          8.1103e-04, -4.7173e-04]])"
      ]
     },
     "execution_count": 19,
     "metadata": {},
     "output_type": "execute_result"
    }
   ],
   "source": [
    "# sample from random normal with standard dev = 0.01\n",
    "model1.h1.weight.data.normal_(std=0.01)"
   ]
  },
  {
   "cell_type": "markdown",
   "metadata": {},
   "source": [
    "### Forward pass\n",
    "\n",
    "Now that we have a network, let's see what happens when we pass in an image."
   ]
  },
  {
   "cell_type": "code",
   "execution_count": 20,
   "metadata": {},
   "outputs": [
    {
     "data": {
      "image/png": "[encoded data removed]",
      "text/plain": [
       "<matplotlib.figure.Figure at 0x7f1a243b2f60>"
      ]
     },
     "metadata": {
      "image/png": {
       "height": 224,
       "width": 423
      },
      "needs_background": "light"
     },
     "output_type": "display_data"
    }
   ],
   "source": [
    "# Grab some data \n",
    "dataiter = iter(trainloader)\n",
    "images, labels = dataiter.next()\n",
    "\n",
    "# Resize images into a 1D vector, new shape is (batch size, color channels, image pixels) \n",
    "images.resize_(64, 1, 784)\n",
    "# or images.resize_(images.shape[0], 1, 784) to automatically get batch size\n",
    "\n",
    "# Forward pass through the network\n",
    "img_idx = 0\n",
    "ps = model1.forward(images[img_idx,:])\n",
    "\n",
    "img = images[img_idx]\n",
    "helper.view_classify(img.view(1, 28, 28), ps)"
   ]
  },
  {
   "cell_type": "markdown",
   "metadata": {},
   "source": [
    "As you can see above, our network has basically no idea what this digit is. It's because we haven't trained it yet, all the weights are random!\n",
    "\n",
    "### Using `nn.Sequential`\n",
    "\n",
    "PyTorch provides a convenient way to build networks like this where a tensor is passed sequentially through operations, `nn.Sequential` ([documentation](https://pytorch.org/docs/master/nn.html#torch.nn.Sequential)). Using this to build the equivalent network:"
   ]
  },
  {
   "cell_type": "code",
   "execution_count": 21,
   "metadata": {},
   "outputs": [
    {
     "name": "stdout",
     "output_type": "stream",
     "text": [
      "Sequential(\n",
      "  (0): Linear(in_features=784, out_features=128, bias=True)\n",
      "  (1): ReLU()\n",
      "  (2): Linear(in_features=128, out_features=64, bias=True)\n",
      "  (3): ReLU()\n",
      "  (4): Linear(in_features=64, out_features=10, bias=True)\n",
      "  (5): Softmax()\n",
      ")\n"
     ]
    },
    {
     "data": {
      "image/png": "[encoded data removed]",
      "text/plain": [
       "<matplotlib.figure.Figure at 0x7f19c68f8be0>"
      ]
     },
     "metadata": {
      "image/png": {
       "height": 224,
       "width": 423
      },
      "needs_background": "light"
     },
     "output_type": "display_data"
    }
   ],
   "source": [
    "# Hyperparameters for our network\n",
    "input_size = 784\n",
    "hidden_sizes = [128, 64]\n",
    "output_size = 10\n",
    "\n",
    "# Build a feed-forward network\n",
    "model = nn.Sequential(nn.Linear(input_size, hidden_sizes[0]),\n",
    "                      nn.ReLU(),\n",
    "                      nn.Linear(hidden_sizes[0], hidden_sizes[1]),\n",
    "                      nn.ReLU(),\n",
    "                      nn.Linear(hidden_sizes[1], output_size),\n",
    "                      nn.Softmax(dim=1))\n",
    "print(model)\n",
    "\n",
    "# Forward pass through the network and display output\n",
    "images, labels = next(iter(trainloader))\n",
    "images.resize_(images.shape[0], 1, 784)\n",
    "ps = model.forward(images[0,:])\n",
    "helper.view_classify(images[0].view(1, 28, 28), ps)"
   ]
  },
  {
   "cell_type": "markdown",
   "metadata": {},
   "source": [
    "Here our model is the same as before: 784 input units, a hidden layer with 128 units, ReLU activation, 64 unit hidden layer, another ReLU, then the output layer with 10 units, and the softmax output.\n",
    "\n",
    "The operations are availble by passing in the appropriate index. For example, if you want to get first Linear operation and look at the weights, you'd use `model[0]`."
   ]
  },
  {
   "cell_type": "code",
   "execution_count": 22,
   "metadata": {},
   "outputs": [
    {
     "name": "stdout",
     "output_type": "stream",
     "text": [
      "Linear(in_features=784, out_features=128, bias=True)\n"
     ]
    },
    {
     "data": {
      "text/plain": [
       "Parameter containing:\n",
       "tensor([[ 5.3764e-03,  1.3465e-02,  1.7190e-02,  ..., -4.9788e-03,\n",
       "          1.6717e-02, -1.6198e-02],\n",
       "        [ 1.7386e-02, -1.1292e-02,  2.0213e-02,  ..., -1.9158e-02,\n",
       "         -3.4350e-02, -2.8551e-03],\n",
       "        [ 1.7851e-02,  1.0112e-02, -2.7746e-02,  ...,  2.3754e-02,\n",
       "         -2.1523e-02,  3.3516e-02],\n",
       "        ...,\n",
       "        [-1.1077e-02,  4.0670e-03, -3.1954e-02,  ..., -1.1788e-02,\n",
       "         -2.3476e-02, -3.4175e-02],\n",
       "        [ 2.4022e-02, -2.7217e-02, -2.6190e-02,  ..., -1.9023e-02,\n",
       "          2.6796e-02, -1.9371e-02],\n",
       "        [ 1.0771e-02,  4.2827e-03, -3.2494e-02,  ..., -1.7705e-02,\n",
       "          1.2815e-03,  3.0547e-02]])"
      ]
     },
     "execution_count": 22,
     "metadata": {},
     "output_type": "execute_result"
    }
   ],
   "source": [
    "print(model[0])\n",
    "model[0].weight"
   ]
  },
  {
   "cell_type": "markdown",
   "metadata": {},
   "source": [
    "You can also pass in an `OrderedDict` to name the individual layers and operations, instead of using incremental integers. Note that dictionary keys must be unique, so _each operation must have a different name_."
   ]
  },
  {
   "cell_type": "code",
   "execution_count": 23,
   "metadata": {},
   "outputs": [
    {
     "data": {
      "text/plain": [
       "Sequential(\n",
       "  (fc1): Linear(in_features=784, out_features=128, bias=True)\n",
       "  (relu1): ReLU()\n",
       "  (fc2): Linear(in_features=128, out_features=64, bias=True)\n",
       "  (relu2): ReLU()\n",
       "  (output): Linear(in_features=64, out_features=10, bias=True)\n",
       "  (softmax): Softmax()\n",
       ")"
      ]
     },
     "execution_count": 23,
     "metadata": {},
     "output_type": "execute_result"
    }
   ],
   "source": [
    "from collections import OrderedDict\n",
    "model = nn.Sequential(OrderedDict([\n",
    "                      ('fc1', nn.Linear(input_size, hidden_sizes[0])),\n",
    "                      ('relu1', nn.ReLU()),\n",
    "                      ('fc2', nn.Linear(hidden_sizes[0], hidden_sizes[1])),\n",
    "                      ('relu2', nn.ReLU()),\n",
    "                      ('output', nn.Linear(hidden_sizes[1], output_size)),\n",
    "                      ('softmax', nn.Softmax(dim=1))]))\n",
    "model"
   ]
  },
  {
   "cell_type": "markdown",
   "metadata": {},
   "source": [
    "Now you can access layers either by integer or the name"
   ]
  },
  {
   "cell_type": "code",
   "execution_count": 24,
   "metadata": {},
   "outputs": [
    {
     "name": "stdout",
     "output_type": "stream",
     "text": [
      "Linear(in_features=784, out_features=128, bias=True)\n",
      "Linear(in_features=784, out_features=128, bias=True)\n"
     ]
    }
   ],
   "source": [
    "print(model[0])\n",
    "print(model.fc1)"
   ]
  },
  {
   "cell_type": "markdown",
   "metadata": {},
   "source": [
    "In the next notebook, we'll see how we can train a neural network to accuractly predict the numbers appearing in the MNIST images."
   ]
  }
 ],
 "metadata": {
  "kernelspec": {
   "display_name": "Python 3",
   "language": "python",
   "name": "python3"
  },
  "language_info": {
   "codemirror_mode": {
    "name": "ipython",
    "version": 3
   },
   "file_extension": ".py",
   "mimetype": "text/x-python",
   "name": "python",
   "nbconvert_exporter": "python",
   "pygments_lexer": "ipython3",
   "version": "3.6.3"
  }
 },
 "nbformat": 4,
 "nbformat_minor": 2
}
